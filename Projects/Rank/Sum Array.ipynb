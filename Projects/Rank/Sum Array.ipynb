{
 "cells": [
  {
   "cell_type": "code",
   "execution_count": 1,
   "metadata": {},
   "outputs": [],
   "source": [
    "#!/bin/python3\n",
    "\n",
    "import os\n",
    "import sys\n",
    "\n",
    "#\n",
    "# Complete the simpleArraySum function below.\n",
    "#\n",
    "\n",
    "    #\n",
    "\n",
    "\n"
   ]
  },
  {
   "cell_type": "code",
   "execution_count": 22,
   "metadata": {},
   "outputs": [],
   "source": [
    "def simpleArraySum(ar):\n",
    "    i = 0\n",
    "    # Write your code here.\n",
    "    for num in ar:\n",
    "        i = i + num\n",
    "    return i\n",
    "\n",
    "def compareTriplets(a, b):\n",
    "    i = 0\n",
    "    Alice = 0\n",
    "    Bob = 0\n",
    "    while i < len(a):\n",
    "        if a[i] > b[i]:\n",
    "            Alice = Alice + 1\n",
    "        elif a[i] < b[i]:\n",
    "            Bob = Bob + 1\n",
    "        else:\n",
    "            Alice = Alice\n",
    "            Bob = Bob\n",
    "        i = i + 1\n",
    "    result = [Alice, Bob]\n",
    "    return result"
   ]
  },
  {
   "cell_type": "code",
   "execution_count": 24,
   "metadata": {},
   "outputs": [
    {
     "name": "stdout",
     "output_type": "stream",
     "text": [
      "5000000015\n"
     ]
    }
   ],
   "source": [
    "arr = [1000000001, 1000000002, 1000000003, 1000000004, 1000000005]\n",
    "a =[5, 6, 7]\n",
    "b = [3, 6, 10]\n",
    "#print (compareTriplets(a, b))\n",
    "print (simpleArraySum(arr))"
   ]
  },
  {
   "cell_type": "code",
   "execution_count": null,
   "metadata": {},
   "outputs": [],
   "source": []
  }
 ],
 "metadata": {
  "kernelspec": {
   "display_name": "Python 3",
   "language": "python",
   "name": "python3"
  },
  "language_info": {
   "codemirror_mode": {
    "name": "ipython",
    "version": 3
   },
   "file_extension": ".py",
   "mimetype": "text/x-python",
   "name": "python",
   "nbconvert_exporter": "python",
   "pygments_lexer": "ipython3",
   "version": "3.7.1"
  }
 },
 "nbformat": 4,
 "nbformat_minor": 2
}
