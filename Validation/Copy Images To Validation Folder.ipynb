{
 "cells": [
  {
   "cell_type": "code",
   "execution_count": 15,
   "metadata": {},
   "outputs": [],
   "source": [
    "import os\n",
    "import pandas as pd\n",
    "from datetime import datetime\n",
    "import shutil"
   ]
  },
  {
   "cell_type": "code",
   "execution_count": 17,
   "metadata": {},
   "outputs": [],
   "source": [
    "Path = \"H:/Master Research/04-Proposal for Methodology/Roadroid Survey/04- 25-08-2018 Cairo-Alex Disert Road/\"\n",
    "#FileName = \"869510024184382_30028124_31227039_20170105081012_0_M_6face3db-ad79-423e-8cc6-180057c67b06\"\n",
    "#FileNameValidation = \"869510024184382_30028124_31227039_20170105081012_0_M_6face3db-ad79-423e-8cc6-180057c67b06 - Copy\"\n",
    "fileType = \".jpg\"\n",
    "PathValidation = \"C:/Users/09009/Desktop/Validation/Images/\""
   ]
  },
  {
   "cell_type": "code",
   "execution_count": 12,
   "metadata": {},
   "outputs": [],
   "source": [
    "listOfImages = pd.read_csv('ListOFValidationImages.csv')"
   ]
  },
  {
   "cell_type": "code",
   "execution_count": 14,
   "metadata": {},
   "outputs": [],
   "source": [
    "#listOfImages"
   ]
  },
  {
   "cell_type": "code",
   "execution_count": 18,
   "metadata": {},
   "outputs": [],
   "source": [
    "for i in listOfImages[\"FileName\"]:\n",
    "    shutil.copy2(Path+i, PathValidation+i)"
   ]
  },
  {
   "cell_type": "code",
   "execution_count": null,
   "metadata": {},
   "outputs": [],
   "source": []
  }
 ],
 "metadata": {
  "kernelspec": {
   "display_name": "Python 3",
   "language": "python",
   "name": "python3"
  },
  "language_info": {
   "codemirror_mode": {
    "name": "ipython",
    "version": 3
   },
   "file_extension": ".py",
   "mimetype": "text/x-python",
   "name": "python",
   "nbconvert_exporter": "python",
   "pygments_lexer": "ipython3",
   "version": "3.7.1"
  }
 },
 "nbformat": 4,
 "nbformat_minor": 2
}
