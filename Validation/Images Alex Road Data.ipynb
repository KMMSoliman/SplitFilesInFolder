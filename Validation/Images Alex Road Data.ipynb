{
 "cells": [
  {
   "cell_type": "code",
   "execution_count": 1,
   "metadata": {},
   "outputs": [],
   "source": [
    "import pandas as pd\n",
    "import numpy as np\n",
    "import seaborn as sns\n",
    "import matplotlib.pyplot as plt\n",
    "from datetime import datetime \n",
    "import math"
   ]
  },
  {
   "cell_type": "code",
   "execution_count": 2,
   "metadata": {},
   "outputs": [],
   "source": [
    "ImagesData = pd.read_csv('CSVData.csv')"
   ]
  },
  {
   "cell_type": "code",
   "execution_count": 3,
   "metadata": {},
   "outputs": [],
   "source": [
    "#ImagesData.info()\n",
    "#ImagesData.describe()"
   ]
  },
  {
   "cell_type": "code",
   "execution_count": 4,
   "metadata": {},
   "outputs": [
    {
     "data": {
      "text/html": [
       "<div>\n",
       "<style scoped>\n",
       "    .dataframe tbody tr th:only-of-type {\n",
       "        vertical-align: middle;\n",
       "    }\n",
       "\n",
       "    .dataframe tbody tr th {\n",
       "        vertical-align: top;\n",
       "    }\n",
       "\n",
       "    .dataframe thead th {\n",
       "        text-align: right;\n",
       "    }\n",
       "</style>\n",
       "<table border=\"1\" class=\"dataframe\">\n",
       "  <thead>\n",
       "    <tr style=\"text-align: right;\">\n",
       "      <th></th>\n",
       "      <th>path</th>\n",
       "      <th>iamgeName</th>\n",
       "      <th>ImageNorth</th>\n",
       "      <th>ImageEast</th>\n",
       "      <th>ImageLenght</th>\n",
       "      <th>ImageWidth</th>\n",
       "      <th>DateTime</th>\n",
       "      <th>AverageSpeedInteger</th>\n",
       "      <th>AvgEIRI</th>\n",
       "      <th>AvgCIRI</th>\n",
       "      <th>ImageElevation</th>\n",
       "    </tr>\n",
       "  </thead>\n",
       "  <tbody>\n",
       "    <tr>\n",
       "      <th>0</th>\n",
       "      <td>H:/Master Research/04-Proposal for Methodology...</td>\n",
       "      <td>867363024672796_30048524_31050669_201808250638...</td>\n",
       "      <td>30.048525</td>\n",
       "      <td>31.050670</td>\n",
       "      <td>1440</td>\n",
       "      <td>2560</td>\n",
       "      <td>2018-08-25 06:38:10</td>\n",
       "      <td>58</td>\n",
       "      <td>1.4</td>\n",
       "      <td>0.9</td>\n",
       "      <td>122</td>\n",
       "    </tr>\n",
       "    <tr>\n",
       "      <th>1</th>\n",
       "      <td>H:/Master Research/04-Proposal for Methodology...</td>\n",
       "      <td>867363024672796_30048533_31050544_201808250638...</td>\n",
       "      <td>30.048533</td>\n",
       "      <td>31.050544</td>\n",
       "      <td>1440</td>\n",
       "      <td>2560</td>\n",
       "      <td>2018-08-25 06:38:11</td>\n",
       "      <td>43</td>\n",
       "      <td>1.3</td>\n",
       "      <td>0.8</td>\n",
       "      <td>122</td>\n",
       "    </tr>\n",
       "    <tr>\n",
       "      <th>2</th>\n",
       "      <td>H:/Master Research/04-Proposal for Methodology...</td>\n",
       "      <td>867363024672796_30049235_31056167_201808250637...</td>\n",
       "      <td>30.049236</td>\n",
       "      <td>31.056167</td>\n",
       "      <td>1440</td>\n",
       "      <td>2560</td>\n",
       "      <td>2018-08-25 06:37:34</td>\n",
       "      <td>62</td>\n",
       "      <td>1.4</td>\n",
       "      <td>1.1</td>\n",
       "      <td>116</td>\n",
       "    </tr>\n",
       "  </tbody>\n",
       "</table>\n",
       "</div>"
      ],
      "text/plain": [
       "                                                path  \\\n",
       "0  H:/Master Research/04-Proposal for Methodology...   \n",
       "1  H:/Master Research/04-Proposal for Methodology...   \n",
       "2  H:/Master Research/04-Proposal for Methodology...   \n",
       "\n",
       "                                           iamgeName  ImageNorth  ImageEast  \\\n",
       "0  867363024672796_30048524_31050669_201808250638...   30.048525  31.050670   \n",
       "1  867363024672796_30048533_31050544_201808250638...   30.048533  31.050544   \n",
       "2  867363024672796_30049235_31056167_201808250637...   30.049236  31.056167   \n",
       "\n",
       "   ImageLenght  ImageWidth             DateTime  AverageSpeedInteger  AvgEIRI  \\\n",
       "0         1440        2560  2018-08-25 06:38:10                   58      1.4   \n",
       "1         1440        2560  2018-08-25 06:38:11                   43      1.3   \n",
       "2         1440        2560  2018-08-25 06:37:34                   62      1.4   \n",
       "\n",
       "   AvgCIRI  ImageElevation  \n",
       "0      0.9             122  \n",
       "1      0.8             122  \n",
       "2      1.1             116  "
      ]
     },
     "execution_count": 4,
     "metadata": {},
     "output_type": "execute_result"
    }
   ],
   "source": [
    "ImagesData.head(3)"
   ]
  },
  {
   "cell_type": "code",
   "execution_count": 5,
   "metadata": {
    "scrolled": true
   },
   "outputs": [],
   "source": [
    "#sns.pairplot(ImagesData)"
   ]
  },
  {
   "cell_type": "markdown",
   "metadata": {},
   "source": [
    " # Sort Data by date/time"
   ]
  },
  {
   "cell_type": "code",
   "execution_count": 6,
   "metadata": {},
   "outputs": [],
   "source": [
    "#ImagesData['DateTime'] = pd.to_datetime(ImagesData['DateTime'])\n",
    "#ImagesData = ImagesData.set_index('date')\n",
    "#ImagesData.drop(['DateTime'], axis = 1, inplace = True)\n",
    "#ImagesData = ImagesData.set_index('index')\n",
    "#ImagesData = ImagesData.sort(['DateTime'])\n",
    "#ImagesData.head(5)\n",
    "ImagesData['DateTime'] = pd.to_datetime(ImagesData['DateTime'])"
   ]
  },
  {
   "cell_type": "code",
   "execution_count": 7,
   "metadata": {},
   "outputs": [],
   "source": [
    "ImagesData['Date'] = [d.date() for d in ImagesData['DateTime']]\n",
    "ImagesData['Time'] = [d.time() for d in ImagesData['DateTime']]\n",
    "#ImagesData.head(5)"
   ]
  },
  {
   "cell_type": "code",
   "execution_count": 8,
   "metadata": {},
   "outputs": [],
   "source": [
    "ImagesData = ImagesData.sort_values(by=['Time'])\n",
    "ImagesData = ImagesData.reset_index(drop = True)\n",
    "#ImagesData.head(5)"
   ]
  },
  {
   "cell_type": "markdown",
   "metadata": {},
   "source": [
    "# Distance Clculation Function"
   ]
  },
  {
   "cell_type": "code",
   "execution_count": 9,
   "metadata": {},
   "outputs": [],
   "source": [
    "def DistanceBetweenPoints (y1, x1, y2, x2):\n",
    "    x1 = np.radians(x1)\n",
    "    y1 = np.radians(y1)\n",
    "    x2 = np.radians(x2)\n",
    "    y2 = np.radians(y2)\n",
    "    r = 6376.5 * 1000\n",
    "\n",
    "    dx = x2 - x1\n",
    "    dy = y2 - y1\n",
    "\n",
    "    a = np.sin(dy/2)**2 + np.cos(y1) * np.cos(y2) * np.sin(dx/2)**2\n",
    "    c = 2 * np.arctan2(np.sqrt(a), np.sqrt(1-a))\n",
    "    dist = r * c\n",
    "    #print dist\n",
    "    return dist"
   ]
  },
  {
   "cell_type": "code",
   "execution_count": 10,
   "metadata": {},
   "outputs": [],
   "source": [
    "def GradeDiff (y1, y2):\n",
    "    dy = y2 - y1\n",
    "    return dy"
   ]
  },
  {
   "cell_type": "code",
   "execution_count": 11,
   "metadata": {},
   "outputs": [],
   "source": [
    "def TimeDiff (y1, y2):\n",
    "    dy = pd.Timedelta(y2 - y1).seconds / 3600\n",
    "    return dy"
   ]
  },
  {
   "cell_type": "code",
   "execution_count": null,
   "metadata": {},
   "outputs": [],
   "source": []
  },
  {
   "cell_type": "code",
   "execution_count": 12,
   "metadata": {},
   "outputs": [
    {
     "data": {
      "text/plain": [
       "0          0.0\n",
       "1         75.6\n",
       "2        -39.6\n",
       "3          7.2\n",
       "4        100.8\n",
       "5       -129.6\n",
       "6         61.2\n",
       "7        -72.0\n",
       "8         28.8\n",
       "9          0.0\n",
       "10        10.8\n",
       "11        10.8\n",
       "12        50.4\n",
       "13       -25.2\n",
       "14       -68.4\n",
       "15        21.6\n",
       "16       118.8\n",
       "17      -133.2\n",
       "18        25.2\n",
       "19        -7.2\n",
       "20        25.2\n",
       "21       -10.8\n",
       "22       -18.0\n",
       "23       111.6\n",
       "24      -140.4\n",
       "25        18.0\n",
       "26        -3.6\n",
       "27         0.0\n",
       "28        -3.6\n",
       "29         3.6\n",
       "         ...  \n",
       "1597       0.0\n",
       "1598      -3.6\n",
       "1599      -3.6\n",
       "1600      -3.6\n",
       "1601       3.6\n",
       "1602      -3.6\n",
       "1603     122.4\n",
       "1604     -46.8\n",
       "1605     -54.0\n",
       "1606      -3.6\n",
       "1607       3.6\n",
       "1608     -10.8\n",
       "1609       0.0\n",
       "1610      18.0\n",
       "1611     -25.2\n",
       "1612       0.0\n",
       "1613      21.6\n",
       "1614     -32.4\n",
       "1615      43.2\n",
       "1616      10.8\n",
       "1617     -28.8\n",
       "1618      10.8\n",
       "1619      43.2\n",
       "1620     -86.4\n",
       "1621     198.0\n",
       "1622    2073.6\n",
       "1623   -2228.4\n",
       "1624     -10.8\n",
       "1625     140.4\n",
       "1626    -154.8\n",
       "Name: Seconds, Length: 1627, dtype: float64"
      ]
     },
     "execution_count": 12,
     "metadata": {},
     "output_type": "execute_result"
    }
   ],
   "source": [
    "#s = pd.Series(range(0,1627,1))\n",
    "\n",
    "#ImagesData['Index'] = pd.Series(np.arange(0,1626,1))\n",
    "#ImagesData = ImagesData.set_index(s)\n",
    "ImagesData['Distance'] = DistanceBetweenPoints (ImagesData.ImageNorth.shift(), ImagesData.ImageEast.shift(),\n",
    "                                                ImagesData.loc[1:, 'ImageNorth'], ImagesData.loc[1:, 'ImageEast'])\n",
    "\n",
    "ImagesData['Distance'].fillna(0,inplace=True)\n",
    "ImagesData['ComDistance'] = ImagesData['Distance'].cumsum()\n",
    "ImagesData['ElevationDiff'] = GradeDiff(ImagesData.ImageElevation.shift(), ImagesData.loc[1:, 'ImageElevation'])\n",
    "ImagesData['Seconds'] =  (ImagesData['DateTime']-ImagesData['DateTime'].shift()).fillna(0)\n",
    "ImagesData['Seconds'] = ImagesData['Seconds'].apply(lambda x: x  / np.timedelta64(1,'s')).astype('int64') % (24*60*60)\n",
    "ImagesData['Acceleration'] = (ImagesData['AverageSpeedInteger']-ImagesData['AverageSpeedInteger'].shift()).fillna(0)\n",
    "/ ((ImagesData['Seconds']-ImagesData['Seconds'].shift()).fillna(0)*3.6)\n",
    "#ImagesData.info()\n",
    "#ImagesData.describe()\n",
    "#ImagesData.head(5)\n",
    "#ImagesData.info()\n",
    "#ImagesData['Seconds']"
   ]
  },
  {
   "cell_type": "code",
   "execution_count": 13,
   "metadata": {},
   "outputs": [],
   "source": [
    "#sns.pairplot(ImagesData)\n",
    "#sns.jointplot(x = 'ComDistance' , y = 'AverageSpeedInteger', data = ImagesData, color = 'grey')"
   ]
  },
  {
   "cell_type": "code",
   "execution_count": 14,
   "metadata": {},
   "outputs": [],
   "source": [
    "ImagesData['ElevationDiff'].fillna(0,inplace=True)\n",
    "ImagesData['Grade'] = ImagesData['ElevationDiff']/ImagesData['Distance']#ImagesData.head(5)\n",
    "ImagesData['Grade'].fillna(0,inplace=True)\n",
    "\n",
    "#ImagesData['Grade'] = ImagesData['Grade'].map({np.inf: 1})\n",
    "#ImagesData.head(5)\n",
    "#ImagesData['Grade']*100"
   ]
  },
  {
   "cell_type": "code",
   "execution_count": 15,
   "metadata": {},
   "outputs": [],
   "source": [
    "ImagesData.to_csv(r'modefiedData.csv')"
   ]
  },
  {
   "cell_type": "code",
   "execution_count": 198,
   "metadata": {},
   "outputs": [
    {
     "data": {
      "image/png": "[encoded data removed]",
      "text/plain": [
       "<Figure size 432x288 with 1 Axes>"
      ]
     },
     "metadata": {
      "needs_background": "light"
     },
     "output_type": "display_data"
    }
   ],
   "source": [
    "plt.plot(ImagesData['ComDistance']/1000, ImagesData['Grade']*100, 'g')\n",
    "plt.plot(ImagesData['ComDistance']/1000, ImagesData['AverageSpeedInteger'], 'r')\n",
    "plt.plot(ImagesData['ComDistance']/1000, ImagesData['Acceleration'], 'b')\n",
    "\n",
    "#plt.plot(ImagesData['ComDistance']/1000, ImagesData['Distance']*3.6/ImagesData['Seconds'], 'r')\n",
    "plt.xlabel('Distance (Km)')\n",
    "plt.ylabel('Grade % / Speed (Km/hr)')\n",
    "plt.title('Distance / Grade and Speed')\n",
    "plt.grid(True)\n",
    "plt.show()"
   ]
  },
  {
   "cell_type": "code",
   "execution_count": null,
   "metadata": {},
   "outputs": [],
   "source": []
  }
 ],
 "metadata": {
  "kernelspec": {
   "display_name": "Python 3",
   "language": "python",
   "name": "python3"
  },
  "language_info": {
   "codemirror_mode": {
    "name": "ipython",
    "version": 3
   },
   "file_extension": ".py",
   "mimetype": "text/x-python",
   "name": "python",
   "nbconvert_exporter": "python",
   "pygments_lexer": "ipython3",
   "version": "3.7.3"
  }
 },
 "nbformat": 4,
 "nbformat_minor": 2
}
