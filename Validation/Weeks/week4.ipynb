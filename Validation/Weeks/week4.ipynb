{
 "cells": [
  {
   "cell_type": "markdown",
   "metadata": {},
   "source": [
    "# Week 4 Assessment: Principal Component Analysis (PCA)"
   ]
  },
  {
   "cell_type": "markdown",
   "metadata": {},
   "source": [
    "## Learning Objective\n",
    "\n",
    "In this notebook, we will implement PCA. We will implement the two versions of PCA as described in the lectures, which handles the when the dataset size exceeds the dataset dimensionality, as well as the case when we have the dimensionality greater than the size of the dataset.\n",
    "\n",
    "We will break down the task of implementing PCA into small components and combine them in the end to produce the final algorithm. We will apply PCA to the MNIST dataset and observe how the reconstruction changes as we change the number of principal components used.\n"
   ]
  },
  {
   "cell_type": "code",
   "execution_count": 71,
   "metadata": {
    "collapsed": true
   },
   "outputs": [],
   "source": [
    "# PACKAGE: DO NOT EDIT\n",
    "import numpy as np\n",
    "import timeit"
   ]
  },
  {
   "cell_type": "code",
   "execution_count": 73,
   "metadata": {},
   "outputs": [
    {
     "name": "stderr",
     "output_type": "stream",
     "text": [
      "/opt/conda/lib/python3.6/site-packages/matplotlib/__init__.py:1401: UserWarning:  This call to matplotlib.use() has no effect\n",
      "because the backend has already been chosen;\n",
      "matplotlib.use() must be called *before* pylab, matplotlib.pyplot,\n",
      "or matplotlib.backends is imported for the first time.\n",
      "\n",
      "  warnings.warn(_use_error_msg)\n"
     ]
    }
   ],
   "source": [
    "# PACKAGE: DO NOT EDIT\n",
    "import matplotlib as mpl\n",
    "mpl.use('Agg')\n",
    "import matplotlib.pyplot as plt\n",
    "plt.style.use('fivethirtyeight')"
   ]
  },
  {
   "cell_type": "markdown",
   "metadata": {},
   "source": [
    "Now, let's plot a digit from the dataset:"
   ]
  },
  {
   "cell_type": "code",
   "execution_count": 75,
   "metadata": {},
   "outputs": [
    {
     "data": {
      "image/png": "[encoded data removed]",
      "text/plain": [
       "<matplotlib.figure.Figure at 0x7f33a8f1d4e0>"
      ]
     },
     "metadata": {},
     "output_type": "display_data"
    }
   ],
   "source": [
    "from ipywidgets import interact\n",
    "\n",
    "from sklearn.datasets import fetch_mldata\n",
    "MNIST = fetch_mldata('MNIST original', data_home='./MNIST')\n",
    "%matplotlib inline\n",
    "\n",
    "plt.figure(figsize=(4,4))\n",
    "plt.imshow(MNIST.data[0].reshape(28,28), cmap='gray');"
   ]
  },
  {
   "cell_type": "markdown",
   "metadata": {},
   "source": [
    "Before we implement PCA, we will need to do some data preprocessing. In this assessment, some of them \n",
    "will be implemented by you, others we will take care of. However, when you are working on real world problems, you will need to do all these steps by yourself!\n",
    "\n",
    "The preprocessing steps we will do are\n",
    "1. Convert unsigned interger 8 (uint8) encoding of pixels to a floating point number between 0-1.\n",
    "2. Subtract from each image the mean $\\mu$.\n",
    "3. Scale each dimension of each image by $\\frac{1}{\\sigma}$ where $\\sigma$ is the standard deviation of this dimension across the whole dataset.\n",
    "\n",
    "The steps above ensure that our images will have zero mean and one variance. These preprocessing\n",
    "steps are also known as [Data Normalization or Feature Scaling](https://en.wikipedia.org/wiki/Feature_scaling)."
   ]
  },
  {
   "cell_type": "markdown",
   "metadata": {},
   "source": [
    "## 1. PCA\n",
    "\n",
    "Now we will implement PCA. Before we do that, let's pause for a moment and\n",
    "think about the steps for performing PCA. Assume that we are performing PCA on\n",
    "some dataset $\\boldsymbol X$ for $M$ principal components. \n",
    "We then need to perform the following steps, which we break into parts:\n",
    "\n",
    "1. Data normalization (`normalize`).\n",
    "2. Find eigenvalues and corresponding eigenvectors for the covariance matrix $\\boldsymbol S$.\n",
    "   Sort by the largest eigenvalues and the corresponding eigenvectors (`eig`).\n",
    "\n",
    "After these steps, we can then compute the projection and reconstruction of the data onto the spaced spanned by the top $M$ eigenvectors."
   ]
  },
  {
   "cell_type": "code",
   "execution_count": 77,
   "metadata": {
    "collapsed": true,
    "scrolled": true
   },
   "outputs": [],
   "source": [
    "# GRADED FUNCTION: DO NOT EDIT THIS LINE\n",
    "\n",
    "# ===YOU SHOULD EDIT THIS FUNCTION===\n",
    "def normalize(X):\n",
    "    \"\"\"Normalize the given dataset X\n",
    "    Args:\n",
    "        X: ndarray, dataset\n",
    "    \n",
    "    Returns:\n",
    "        (Xbar, mean, std): ndarray, Xbar is the normalized dataset\n",
    "        with mean 0 and standard deviation 1; mean and std are the \n",
    "        mean and standard deviation respectively.\n",
    "    \n",
    "    Note:\n",
    "        You will encounter dimensions where the standard deviation is\n",
    "        zero, for those when you do normalization the normalized data\n",
    "        will be NaN. Handle this by setting using `std = 1` for those \n",
    "        dimensions when doing normalization.\n",
    "    \"\"\"\n",
    "    mu = np.mean(X, axis=0) # EDIT THIS\n",
    "    X = X - mu\n",
    "    std = np.std(X, axis=0)\n",
    "    std_filled = std.copy()\n",
    "    std_filled[std==0] = 1.     \n",
    "    Xbar = (X-mu) / std_filled # EDIT THIS\n",
    "    return Xbar, mu, std\n"
   ]
  },
  {
   "cell_type": "code",
   "execution_count": 151,
   "metadata": {
    "collapsed": true
   },
   "outputs": [],
   "source": [
    "# GRADED FUNCTION: DO NOT EDIT THIS LINE\n",
    "\n",
    "# ===YOU SHOULD EDIT THIS FUNCTION===\n",
    "def eig(S):\n",
    "    \"\"\"Compute the eigenvalues and corresponding eigenvectors \n",
    "        for the covariance matrix S.\n",
    "    Args:\n",
    "        S: ndarray, covariance matrix\n",
    "    \n",
    "    Returns:\n",
    "        (eigvals, eigvecs): ndarray, the eigenvalues and eigenvectors\n",
    "\n",
    "    Note:\n",
    "        the eigenvals and eigenvecs SHOULD BE sorted in descending\n",
    "        order of the eigen values\n",
    "        \n",
    "        Hint: take a look at np.argsort for how to sort in numpy.\n",
    "    \"\"\"\n",
    "    eig_val, eig_vec = np.linalg.eigh(S)\n",
    "    sorted_eig  = np.argsort(-eig_val)\n",
    "    eig_val = eig_val[sorted_eig]\n",
    "    eig_vec = eig_vec[:, sorted_eig]\n",
    "    return (eig_val, eig_vec) # EDIT THIS"
   ]
  },
  {
   "cell_type": "code",
   "execution_count": 152,
   "metadata": {
    "collapsed": true
   },
   "outputs": [],
   "source": [
    "# GRADED FUNCTION: DO NOT EDIT THIS LINE\n",
    "\n",
    "# ===YOU SHOULD EDIT THIS FUNCTION===\n",
    "def projection_matrix(B):\n",
    "    \"\"\"Compute the projection matrix onto the space spanned by `B`\n",
    "    Args:\n",
    "        B: ndarray of dimension (D, M), the basis for the subspace\n",
    "    \n",
    "    Returns:\n",
    "        P: the projection matrix\n",
    "    \"\"\"\n",
    "    P = B @ B.T # EDIT THIS\n",
    "\n",
    "    return P"
   ]
  },
  {
   "cell_type": "markdown",
   "metadata": {},
   "source": [
    "Now, with the help of the functions you have implemented above, let's implement PCA! __When you implement `PCA`, do take advantage of the functions that you have implemented above.__"
   ]
  },
  {
   "cell_type": "code",
   "execution_count": 173,
   "metadata": {
    "collapsed": true
   },
   "outputs": [],
   "source": [
    "# GRADED FUNCTION: DO NOT EDIT THIS LINE\n",
    "from sklearn.preprocessing import StandardScaler\n",
    "from sklearn import decomposition\n",
    "\n",
    "# ===YOU SHOULD EDIT THIS FUNCTION===\n",
    "def PCA(X, num_components):\n",
    "    \"\"\"\n",
    "    Args:\n",
    "        X: ndarray of size (N, D), where D is the dimension of the data,\n",
    "           and N is the number of datapoints\n",
    "        num_components: the number of principal components to use.\n",
    "    Returns:\n",
    "        X_reconstruct: ndarray of the reconstruction\n",
    "        of X from the first `num_components` principal components.\n",
    "    \"\"\"\n",
    "    # Compute the data covariance matrix S\n",
    "    M = (X - np.mean(X.T, axis=1))\n",
    "    S = np.cov(X.T)\n",
    "\n",
    "    # Next find eigenvalues and corresponding eigenvectors for S by implementing eig().\n",
    "    eig_vals, eig_vecs = eig(S)\n",
    "    \n",
    "    # Select eigen vectors\n",
    "    U = eig_vecs[:, range(num_components)]\n",
    "    \n",
    "    # Reconstruct the images from the lowerdimensional representation\n",
    "    # To do this, we first need to find the projection_matrix (which you implemented earlier)\n",
    "    # which projects our input data onto the vector space spanned by the eigenvectors\n",
    "    P = projection_matrix(U) # projection matrix\n",
    "    \n",
    "    # Then for each data point x_i in the dataset X \n",
    "    #   we can project the original x_i onto the eigenbasis.\n",
    "    X_reconstruct =  np.dot(X, P)\n",
    "    return X_reconstruct\n",
    "    "
   ]
  },
  {
   "cell_type": "code",
   "execution_count": 160,
   "metadata": {
    "collapsed": true
   },
   "outputs": [],
   "source": [
    "## Some preprocessing of the data\n",
    "NUM_DATAPOINTS = 1000\n",
    "X = (MNIST.data.reshape(-1, 28 * 28)[:NUM_DATAPOINTS]) / 255.\n",
    "Xbar, mu, std = normalize(X)"
   ]
  },
  {
   "cell_type": "markdown",
   "metadata": {},
   "source": [
    "The greater number of of principal components we use, the smaller will our reconstruction\n",
    "error be. Now, let's answer the following question: \n",
    "\n",
    "\n",
    "> How many principal components do we need\n",
    "> in order to reach a Mean Squared Error (MSE) of less than $100$ for our dataset?\n",
    "\n"
   ]
  },
  {
   "cell_type": "code",
   "execution_count": 161,
   "metadata": {
    "collapsed": true
   },
   "outputs": [],
   "source": [
    "def mse(predict, actual):\n",
    "    return np.square(predict - actual).sum(axis=1).mean()"
   ]
  },
  {
   "cell_type": "code",
   "execution_count": 162,
   "metadata": {},
   "outputs": [
    {
     "name": "stdout",
     "output_type": "stream",
     "text": [
      "n = 1, reconstruction_error = 445.176488\n",
      "n = 2, reconstruction_error = 403.941979\n",
      "n = 3, reconstruction_error = 377.592431\n",
      "n = 4, reconstruction_error = 353.300124\n",
      "n = 5, reconstruction_error = 335.442895\n",
      "n = 6, reconstruction_error = 320.515895\n",
      "n = 7, reconstruction_error = 307.284207\n",
      "n = 8, reconstruction_error = 294.953574\n",
      "n = 9, reconstruction_error = 283.976615\n",
      "n = 10, reconstruction_error = 274.013351\n",
      "n = 11, reconstruction_error = 264.535178\n",
      "n = 12, reconstruction_error = 255.411519\n",
      "n = 13, reconstruction_error = 246.977773\n",
      "n = 14, reconstruction_error = 238.612489\n",
      "n = 15, reconstruction_error = 230.823945\n",
      "n = 16, reconstruction_error = 223.745087\n",
      "n = 17, reconstruction_error = 217.252885\n",
      "n = 18, reconstruction_error = 211.109805\n",
      "n = 19, reconstruction_error = 205.191266\n",
      "n = 20, reconstruction_error = 199.459376\n",
      "n = 21, reconstruction_error = 193.830646\n",
      "n = 22, reconstruction_error = 188.729930\n",
      "n = 23, reconstruction_error = 183.680207\n",
      "n = 24, reconstruction_error = 178.716447\n",
      "n = 25, reconstruction_error = 173.838899\n",
      "n = 26, reconstruction_error = 169.240087\n",
      "n = 27, reconstruction_error = 164.709929\n",
      "n = 28, reconstruction_error = 160.399040\n",
      "n = 29, reconstruction_error = 156.242176\n",
      "n = 30, reconstruction_error = 152.314700\n",
      "n = 31, reconstruction_error = 148.585512\n",
      "n = 32, reconstruction_error = 144.967513\n",
      "n = 33, reconstruction_error = 141.463610\n",
      "n = 34, reconstruction_error = 138.049052\n",
      "n = 35, reconstruction_error = 134.804194\n",
      "n = 36, reconstruction_error = 131.637698\n",
      "n = 37, reconstruction_error = 128.514868\n",
      "n = 38, reconstruction_error = 125.449114\n",
      "n = 39, reconstruction_error = 122.445685\n",
      "n = 40, reconstruction_error = 119.617802\n",
      "n = 41, reconstruction_error = 116.861161\n",
      "n = 42, reconstruction_error = 114.120986\n",
      "n = 43, reconstruction_error = 111.494982\n",
      "n = 44, reconstruction_error = 109.043607\n",
      "n = 45, reconstruction_error = 106.677698\n",
      "n = 46, reconstruction_error = 104.411285\n",
      "n = 47, reconstruction_error = 102.289186\n",
      "n = 48, reconstruction_error = 100.209621\n",
      "n = 49, reconstruction_error = 98.186397\n",
      "n = 50, reconstruction_error = 96.202592\n",
      "n = 51, reconstruction_error = 94.230480\n",
      "n = 52, reconstruction_error = 92.321572\n",
      "n = 53, reconstruction_error = 90.452334\n",
      "n = 54, reconstruction_error = 88.719880\n",
      "n = 55, reconstruction_error = 87.010172\n",
      "n = 56, reconstruction_error = 85.357146\n",
      "n = 57, reconstruction_error = 83.733070\n",
      "n = 58, reconstruction_error = 82.134603\n",
      "n = 59, reconstruction_error = 80.557153\n",
      "n = 60, reconstruction_error = 79.043511\n",
      "n = 61, reconstruction_error = 77.591119\n",
      "n = 62, reconstruction_error = 76.179282\n",
      "n = 63, reconstruction_error = 74.839740\n",
      "n = 64, reconstruction_error = 73.537097\n",
      "n = 65, reconstruction_error = 72.263037\n",
      "n = 66, reconstruction_error = 71.014394\n",
      "n = 67, reconstruction_error = 69.789344\n",
      "n = 68, reconstruction_error = 68.600844\n",
      "n = 69, reconstruction_error = 67.430337\n",
      "n = 70, reconstruction_error = 66.293432\n",
      "n = 71, reconstruction_error = 65.181586\n",
      "n = 72, reconstruction_error = 64.095697\n",
      "n = 73, reconstruction_error = 63.024775\n",
      "n = 74, reconstruction_error = 61.964528\n",
      "n = 75, reconstruction_error = 60.928472\n",
      "n = 76, reconstruction_error = 59.927952\n",
      "n = 77, reconstruction_error = 58.936304\n",
      "n = 78, reconstruction_error = 57.959615\n",
      "n = 79, reconstruction_error = 56.997041\n",
      "n = 80, reconstruction_error = 56.062799\n",
      "n = 81, reconstruction_error = 55.152727\n",
      "n = 82, reconstruction_error = 54.257452\n",
      "n = 83, reconstruction_error = 53.377407\n",
      "n = 84, reconstruction_error = 52.519199\n",
      "n = 85, reconstruction_error = 51.663204\n",
      "n = 86, reconstruction_error = 50.851429\n",
      "n = 87, reconstruction_error = 50.049822\n",
      "n = 88, reconstruction_error = 49.255963\n",
      "n = 89, reconstruction_error = 48.485538\n",
      "n = 90, reconstruction_error = 47.726620\n",
      "n = 91, reconstruction_error = 46.986703\n",
      "n = 92, reconstruction_error = 46.268002\n",
      "n = 93, reconstruction_error = 45.556610\n",
      "n = 94, reconstruction_error = 44.859183\n",
      "n = 95, reconstruction_error = 44.184838\n",
      "n = 96, reconstruction_error = 43.525914\n",
      "n = 97, reconstruction_error = 42.894227\n",
      "n = 98, reconstruction_error = 42.270628\n",
      "n = 99, reconstruction_error = 41.655122\n"
     ]
    }
   ],
   "source": [
    "loss = []\n",
    "reconstructions = []\n",
    "for num_component in range(1, 100):\n",
    "    reconst = PCA(Xbar, num_component)\n",
    "    error = mse(reconst, Xbar)\n",
    "    reconstructions.append(reconst)\n",
    "    print('n = {:d}, reconstruction_error = {:f}'.format(num_component, error))\n",
    "    loss.append((num_component, error))\n",
    "\n",
    "reconstructions = np.asarray(reconstructions)\n",
    "reconstructions = reconstructions * std + mu # \"unnormalize\" the reconstructed image\n",
    "loss = np.asarray(loss)"
   ]
  },
  {
   "cell_type": "code",
   "execution_count": 163,
   "metadata": {},
   "outputs": [
    {
     "data": {
      "text/plain": [
       "array([[   1.        ,  445.17648843],\n",
       "       [   2.        ,  403.94197923],\n",
       "       [   3.        ,  377.59243065],\n",
       "       [   4.        ,  353.30012434],\n",
       "       [   5.        ,  335.44289452],\n",
       "       [   6.        ,  320.51589546],\n",
       "       [   7.        ,  307.28420723],\n",
       "       [   8.        ,  294.95357442],\n",
       "       [   9.        ,  283.97661502],\n",
       "       [  10.        ,  274.01335119],\n",
       "       [  11.        ,  264.53517783],\n",
       "       [  12.        ,  255.4115194 ],\n",
       "       [  13.        ,  246.97777313],\n",
       "       [  14.        ,  238.61248858],\n",
       "       [  15.        ,  230.82394538],\n",
       "       [  16.        ,  223.74508667],\n",
       "       [  17.        ,  217.25288549],\n",
       "       [  18.        ,  211.10980526],\n",
       "       [  19.        ,  205.19126619],\n",
       "       [  20.        ,  199.45937602],\n",
       "       [  21.        ,  193.83064587],\n",
       "       [  22.        ,  188.72992977],\n",
       "       [  23.        ,  183.68020736],\n",
       "       [  24.        ,  178.7164468 ],\n",
       "       [  25.        ,  173.83889867],\n",
       "       [  26.        ,  169.24008665],\n",
       "       [  27.        ,  164.70992918],\n",
       "       [  28.        ,  160.39904031],\n",
       "       [  29.        ,  156.24217637],\n",
       "       [  30.        ,  152.31470003],\n",
       "       [  31.        ,  148.58551212],\n",
       "       [  32.        ,  144.96751302],\n",
       "       [  33.        ,  141.4636097 ],\n",
       "       [  34.        ,  138.04905222],\n",
       "       [  35.        ,  134.80419402],\n",
       "       [  36.        ,  131.63769824],\n",
       "       [  37.        ,  128.51486788],\n",
       "       [  38.        ,  125.44911449],\n",
       "       [  39.        ,  122.44568498],\n",
       "       [  40.        ,  119.61780193],\n",
       "       [  41.        ,  116.861161  ],\n",
       "       [  42.        ,  114.12098626],\n",
       "       [  43.        ,  111.49498167],\n",
       "       [  44.        ,  109.04360723],\n",
       "       [  45.        ,  106.67769811],\n",
       "       [  46.        ,  104.41128462],\n",
       "       [  47.        ,  102.28918562],\n",
       "       [  48.        ,  100.20962071],\n",
       "       [  49.        ,   98.18639674],\n",
       "       [  50.        ,   96.20259239],\n",
       "       [  51.        ,   94.23047999],\n",
       "       [  52.        ,   92.32157216],\n",
       "       [  53.        ,   90.45233407],\n",
       "       [  54.        ,   88.71988007],\n",
       "       [  55.        ,   87.01017231],\n",
       "       [  56.        ,   85.35714647],\n",
       "       [  57.        ,   83.73306986],\n",
       "       [  58.        ,   82.1346028 ],\n",
       "       [  59.        ,   80.55715323],\n",
       "       [  60.        ,   79.04351123],\n",
       "       [  61.        ,   77.59111949],\n",
       "       [  62.        ,   76.17928152],\n",
       "       [  63.        ,   74.83974007],\n",
       "       [  64.        ,   73.53709719],\n",
       "       [  65.        ,   72.26303721],\n",
       "       [  66.        ,   71.01439426],\n",
       "       [  67.        ,   69.78934379],\n",
       "       [  68.        ,   68.60084356],\n",
       "       [  69.        ,   67.43033735],\n",
       "       [  70.        ,   66.29343157],\n",
       "       [  71.        ,   65.18158647],\n",
       "       [  72.        ,   64.09569727],\n",
       "       [  73.        ,   63.02477536],\n",
       "       [  74.        ,   61.96452806],\n",
       "       [  75.        ,   60.92847182],\n",
       "       [  76.        ,   59.92795243],\n",
       "       [  77.        ,   58.93630438],\n",
       "       [  78.        ,   57.95961501],\n",
       "       [  79.        ,   56.9970415 ],\n",
       "       [  80.        ,   56.06279858],\n",
       "       [  81.        ,   55.15272708],\n",
       "       [  82.        ,   54.2574517 ],\n",
       "       [  83.        ,   53.37740707],\n",
       "       [  84.        ,   52.5191994 ],\n",
       "       [  85.        ,   51.66320389],\n",
       "       [  86.        ,   50.85142887],\n",
       "       [  87.        ,   50.04982152],\n",
       "       [  88.        ,   49.25596342],\n",
       "       [  89.        ,   48.48553832],\n",
       "       [  90.        ,   47.72661966],\n",
       "       [  91.        ,   46.98670333],\n",
       "       [  92.        ,   46.26800157],\n",
       "       [  93.        ,   45.55661019],\n",
       "       [  94.        ,   44.85918259],\n",
       "       [  95.        ,   44.18483827],\n",
       "       [  96.        ,   43.52591415],\n",
       "       [  97.        ,   42.89422674],\n",
       "       [  98.        ,   42.27062771],\n",
       "       [  99.        ,   41.65512189]])"
      ]
     },
     "execution_count": 163,
     "metadata": {},
     "output_type": "execute_result"
    }
   ],
   "source": [
    "loss"
   ]
  },
  {
   "cell_type": "markdown",
   "metadata": {},
   "source": [
    "We can also put these numbers into perspective by plotting them."
   ]
  },
  {
   "cell_type": "code",
   "execution_count": 164,
   "metadata": {},
   "outputs": [
    {
     "data": {
      "image/png": "[encoded data removed]",
      "text/plain": [
       "<matplotlib.figure.Figure at 0x7f33b7646048>"
      ]
     },
     "metadata": {},
     "output_type": "display_data"
    }
   ],
   "source": [
    "fig, ax = plt.subplots()\n",
    "ax.plot(loss[:,0], loss[:,1]);\n",
    "ax.axhline(100, linestyle='--', color='r', linewidth=2)\n",
    "ax.xaxis.set_ticks(np.arange(1, 100, 5));\n",
    "ax.set(xlabel='num_components', ylabel='MSE', title='MSE vs number of principal components');"
   ]
  },
  {
   "cell_type": "markdown",
   "metadata": {},
   "source": [
    "But _numbers don't tell us everything_! Just what does it mean _qualitatively_ for the loss to decrease from around\n",
    "$450.0$ to less than $100.0$?\n",
    "\n",
    "Let's find out! In the next cell, we draw the original eight as the leftmost image. Then we show the reconstruction of the image on the right, in descending number of principal components used."
   ]
  },
  {
   "cell_type": "code",
   "execution_count": 165,
   "metadata": {
    "scrolled": true
   },
   "outputs": [
    {
     "data": {
      "image/png": "[encoded data removed]",
      "text/plain": [
       "<matplotlib.figure.Figure at 0x7f33a8ff67f0>"
      ]
     },
     "metadata": {},
     "output_type": "display_data"
    }
   ],
   "source": [
    "@interact(image_idx=(0, 1000))\n",
    "def show_num_components_reconst(image_idx):\n",
    "    fig, ax = plt.subplots(figsize=(20., 20.))\n",
    "    actual = X[image_idx]\n",
    "    x = np.concatenate([actual[np.newaxis, :], reconstructions[:, image_idx]])\n",
    "    ax.imshow(np.hstack(x.reshape(-1, 28, 28)[np.arange(10)]),\n",
    "              cmap='gray');\n",
    "    ax.axvline(28, color='orange', linewidth=2)"
   ]
  },
  {
   "cell_type": "markdown",
   "metadata": {},
   "source": [
    "We can also browse throught the reconstructions for other digits. Once again, `interact` becomes handy."
   ]
  },
  {
   "cell_type": "code",
   "execution_count": 166,
   "metadata": {
    "scrolled": true
   },
   "outputs": [
    {
     "data": {
      "image/png": "[encoded data removed]",
      "text/plain": [
       "<matplotlib.figure.Figure at 0x7f33a9312630>"
      ]
     },
     "metadata": {},
     "output_type": "display_data"
    }
   ],
   "source": [
    "@interact(i=(0, 10))\n",
    "def show_pca_digits(i=1):\n",
    "    plt.figure(figsize=(4,4))\n",
    "    actual_sample = X[i].reshape(28,28)\n",
    "    reconst_sample = (reconst[i, :] * std + mu).reshape(28, 28)\n",
    "    plt.imshow(np.hstack([actual_sample, reconst_sample]), cmap='gray')\n",
    "    plt.show()"
   ]
  },
  {
   "cell_type": "markdown",
   "metadata": {},
   "source": [
    "## 2. PCA for high-dimensional datasets\n",
    "\n",
    "Sometimes, the dimensionality of our dataset may be larger than the number of data points we\n",
    "have. Then it might be inefficient to perform PCA with the implementation above. Instead,\n",
    "as mentioned in the lectures, we can implement PCA in a more efficient manner, which we\n",
    "call PCA for high-dimensional data (PCA_high_dim)."
   ]
  },
  {
   "cell_type": "markdown",
   "metadata": {},
   "source": [
    "Consider the __normalized__ data matrix $\\boldsymbol{\\bar{X}}$ of size $N \\times D$ where $D > N$. To do PCA we perform the following steps:\n",
    "\n",
    "* We solve the following eigenvalue/eigenvector equation for the matrix $\\frac{1}{N} \\boldsymbol{\\bar{X}} \\boldsymbol{\\bar{X}}^T$, i.e. we solve for $\\lambda_i$, $\\boldsymbol c_i$ in\n",
    "$$\\frac{1}{N} \\boldsymbol{\\bar{X}} \\boldsymbol{\\bar{X}}^T \\boldsymbol c_i = \\lambda_i \\boldsymbol c_i.$$\n",
    "\n",
    "* We want to recover original eigenvectors $\\boldsymbol b_i$ of the data covariance matrix $\\boldsymbol S = \\frac{1}{N} \\boldsymbol{\\bar{X}^T} \\boldsymbol{\\bar{X}}$.\n",
    "\n",
    "* Left-multiply the eigenvectors $\\boldsymbol c_i$ by $\\boldsymbol{\\bar{X}}^T$ yields\n",
    "$$\\frac{1}{N} \\boldsymbol{\\bar{X}}^T \\boldsymbol{\\bar{X}} \\boldsymbol{\\bar{X}}^T \\boldsymbol c_i = \\lambda_i \\boldsymbol{\\bar{X}}^T \\boldsymbol c_i$$ and we recover $\\boldsymbol b_i=\\boldsymbol{\\bar{X}}^T \\boldsymbol c_i$ as eigenvector of $\\boldsymbol S$ with the eigenvalue $\\lambda_i$."
   ]
  },
  {
   "cell_type": "code",
   "execution_count": 167,
   "metadata": {
    "collapsed": true
   },
   "outputs": [],
   "source": [
    "# GRADED FUNCTION: DO NOT EDIT THIS LINE\n",
    "\n",
    "def PCA_high_dim(X, num_components):\n",
    "    \"\"\"Compute PCA for small sample size. \n",
    "    Args:\n",
    "        X: ndarray of size (N, D), where D is the dimension of the data,\n",
    "           and N is the number of data points in the training set. You may assume the input \n",
    "           has been normalized.\n",
    "        num_components: the number of principal components to use.\n",
    "    Returns:\n",
    "        X_reconstruct: (N, D) ndarray. the reconstruction\n",
    "        of X from the first `num_components` principal components.\n",
    "    \"\"\"\n",
    "    N, D = X.shape\n",
    "    M = 1 / N * X @ X.T # EDIT THIS, compute the matrix \\frac{1}{N}XX^T.\n",
    "    eig_vals, eig_vecs = eig(M) # EDIT THIS, compute the eigenvalues. \n",
    "    U = eig_vecs[:, range(num_components)] # EDIT THIS. Compute the eigenvectors for the original PCA problem.\n",
    "    # Similar to what you would do in PCA, compute the projection matrix,\n",
    "    # then perform the projection.\n",
    "    P = projection_matrix(U) # projection matrix\n",
    "    print(P.shape)\n",
    "    X_reconstruct = P @ X  # EDIT THIS.\n",
    "    return X_reconstruct"
   ]
  },
  {
   "cell_type": "markdown",
   "metadata": {},
   "source": [
    "Given the same dataset, `PCA_high_dim` and `PCA` should give the same output. \n",
    "Assuming we have implemented `PCA` correctly, we can then use `PCA` to test the correctness\n",
    "of `PCA_high_dim`.\n",
    "\n",
    "We can use this __invariant__\n",
    "to test our implementation of `PCA_high_dim`, assuming that we have correctly implemented `PCA`."
   ]
  },
  {
   "cell_type": "code",
   "execution_count": 168,
   "metadata": {},
   "outputs": [
    {
     "name": "stdout",
     "output_type": "stream",
     "text": [
      "(1000, 1000)\n",
      "correct\n"
     ]
    }
   ],
   "source": [
    "np.testing.assert_almost_equal(PCA(Xbar, 2), PCA_high_dim(Xbar, 2))\n",
    "# In fact, you can generate random input dataset to verify your implementation.\n",
    "print('correct')"
   ]
  },
  {
   "cell_type": "markdown",
   "metadata": {},
   "source": [
    "Now let's compare the running time between `PCA` and `PCA_high_dim`.\n",
    "\n",
    "__Tips__ for running benchmarks or computationally expensive code:\n",
    "\n",
    "When you have some computation that takes up a non-negligible amount of time. Try separating\n",
    "the code that produces output from the code that analyzes the result (e.g. plot the results, comput statistics of the results). In this way, you don't have to recompute when you want to produce more analysis."
   ]
  },
  {
   "cell_type": "code",
   "execution_count": 169,
   "metadata": {
    "collapsed": true
   },
   "outputs": [],
   "source": [
    "def time(f, repeat=100):\n",
    "    times = []\n",
    "    for _ in range(repeat):\n",
    "        start = timeit.default_timer()\n",
    "        f()\n",
    "        stop = timeit.default_timer()\n",
    "        times.append(stop-start)\n",
    "    return np.mean(times), np.std(times)"
   ]
  },
  {
   "cell_type": "code",
   "execution_count": 170,
   "metadata": {
    "collapsed": true
   },
   "outputs": [],
   "source": [
    "times_mm0 = []\n",
    "times_mm1 = []\n",
    "\n",
    "for datasetsize in np.arange(4, 784, step=20):\n",
    "    XX = Xbar[:datasetsize]\n",
    "    mu, sigma = time(lambda : XX.T @ XX)\n",
    "    times_mm0.append((datasetsize, mu, sigma))\n",
    "    \n",
    "    mu, sigma = time(lambda : XX @ XX.T)\n",
    "    times_mm1.append((datasetsize, mu, sigma))\n",
    "    \n",
    "times_mm0 = np.asarray(times_mm0)\n",
    "times_mm1 = np.asarray(times_mm1)"
   ]
  },
  {
   "cell_type": "code",
   "execution_count": 171,
   "metadata": {},
   "outputs": [
    {
     "data": {
      "image/png": "[encoded data removed]",
      "text/plain": [
       "<matplotlib.figure.Figure at 0x7f33a957deb8>"
      ]
     },
     "metadata": {},
     "output_type": "display_data"
    }
   ],
   "source": [
    "fig, ax = plt.subplots()\n",
    "ax.set(xlabel='size of dataset', ylabel='running time')\n",
    "bar = ax.errorbar(times_mm0[:, 0], times_mm0[:, 1], times_mm0[:, 2], label=\"$X^T X$ (PCA)\", linewidth=2)\n",
    "ax.errorbar(times_mm1[:, 0], times_mm1[:, 1], times_mm1[:, 2], label=\"$X X^T$ (PCA_high_dim)\", linewidth=2)\n",
    "ax.legend();"
   ]
  },
  {
   "cell_type": "markdown",
   "metadata": {},
   "source": [
    "We first benchmark the time taken to compute $\\boldsymbol X^T\\boldsymbol X$ and $\\boldsymbol X\\boldsymbol X^T$. Jupyter's magic command `%time` is quite handy."
   ]
  },
  {
   "cell_type": "markdown",
   "metadata": {},
   "source": [
    "Next we benchmark `PCA`, `PCA_high_dim`."
   ]
  },
  {
   "cell_type": "code",
   "execution_count": 172,
   "metadata": {},
   "outputs": [
    {
     "ename": "SyntaxError",
     "evalue": "invalid syntax (<ipython-input-172-6d03ca2c8880>, line 7)",
     "output_type": "error",
     "traceback": [
      "\u001b[0;36m  File \u001b[0;32m\"<ipython-input-172-6d03ca2c8880>\"\u001b[0;36m, line \u001b[0;32m7\u001b[0m\n\u001b[0;31m    mu, sigma = time(???)\u001b[0m\n\u001b[0m                     ^\u001b[0m\n\u001b[0;31mSyntaxError\u001b[0m\u001b[0;31m:\u001b[0m invalid syntax\n"
     ]
    }
   ],
   "source": [
    "times0 = []\n",
    "times1 = []\n",
    "\n",
    "for datasetsize in np.arange(4, 784, step=100):\n",
    "    XX = Xbar[:datasetsize]\n",
    "    npc = 2\n",
    "    mu, sigma = time(???)\n",
    "    times0.append((datasetsize, mu, sigma))\n",
    "    \n",
    "    mu, sigma = time(???)\n",
    "    times1.append((datasetsize, mu, sigma))\n",
    "    \n",
    "times0 = np.asarray(times0)\n",
    "times1 = np.asarray(times1)"
   ]
  },
  {
   "cell_type": "markdown",
   "metadata": {},
   "source": [
    "Alternatively, use the `time` magic command."
   ]
  },
  {
   "cell_type": "code",
   "execution_count": null,
   "metadata": {
    "collapsed": true
   },
   "outputs": [],
   "source": [
    "%time Xbar.T @ Xbar\n",
    "%time Xbar @ Xbar.T\n",
    "pass # Put this here, so that our output does not show the result of computing `Xbar @ Xbar.T`"
   ]
  },
  {
   "cell_type": "markdown",
   "metadata": {},
   "source": [
    "We can also compare the running time for __PCA__ and __PCA\\_high\\_dim__ directly. Spend some time and think about what this plot means. We mentioned in lectures that `PCA_high_dim` are advantageous when\n",
    "we have dataset size $N$ < data dimension $D$. Although our plot for the two running times does not intersect exactly at $N = D$, it does show the trend."
   ]
  },
  {
   "cell_type": "code",
   "execution_count": null,
   "metadata": {
    "collapsed": true,
    "scrolled": true
   },
   "outputs": [],
   "source": [
    "fig, ax = plt.subplots()\n",
    "ax.set(xlabel='number of datapoints', ylabel='run time')\n",
    "ax.errorbar(times0[:, 0], times0[:, 1], times0[:, 2], label=\"PCA\", linewidth=2)\n",
    "ax.errorbar(times1[:, 0], times1[:, 1], times1[:, 2], label=\"PCA_high_dim\", linewidth=2)\n",
    "ax.legend();"
   ]
  },
  {
   "cell_type": "markdown",
   "metadata": {},
   "source": [
    "Again, with the magic command `time`."
   ]
  },
  {
   "cell_type": "code",
   "execution_count": null,
   "metadata": {
    "collapsed": true
   },
   "outputs": [],
   "source": [
    "%time PCA(Xbar, 2)\n",
    "%time PCA_high_dim(Xbar, 2)\n",
    "pass"
   ]
  }
 ],
 "metadata": {
  "coursera": {
   "course_slug": "mathematics-machine-learning-pca",
   "graded_item_id": "CXC11",
   "launcher_item_id": "ub5A7"
  },
  "kernelspec": {
   "display_name": "Python 3",
   "language": "python",
   "name": "python3"
  },
  "language_info": {
   "codemirror_mode": {
    "name": "ipython",
    "version": 3
   },
   "file_extension": ".py",
   "mimetype": "text/x-python",
   "name": "python",
   "nbconvert_exporter": "python",
   "pygments_lexer": "ipython3",
   "version": "3.6.4"
  }
 },
 "nbformat": 4,
 "nbformat_minor": 2
}
